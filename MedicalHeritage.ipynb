{
 "cells": [
  {
   "cell_type": "markdown",
   "metadata": {},
   "source": [
    "## Using the Internet Archive API to access the Medical Heritage Library "
   ]
  },
  {
   "cell_type": "markdown",
   "metadata": {},
   "source": [
    "The Internet Archive offers an API (Application Programming Interface) that makes it easier to access their archives programmatically. Even the [Medical Heritage Library (https://archive.org/details/medicalheritagelibrary)! Using just a few keystrokes we can download thousands of PDFs and analyze them in different ways. This Jupyter Notebook is set up to help you download PDFs from the Medical Heritage Library. \n",
    "\n",
    "This notebook is based on a notebook used to do a \"humanities experiment\" in a course taught by Heidi Knoblauch at Bard College called History of Experiment. The notebook is based on a notebook written by Experimental Humanities Web Developer [Ryan Sablosky](https://github.com/sabo). "
   ]
  },
  {
   "cell_type": "markdown",
   "metadata": {},
   "source": [
    "First, load the \"internetarchive\" library for python. This library handles communicating with the Internet Archive."
   ]
  },
  {
   "cell_type": "code",
   "execution_count": null,
   "metadata": {
    "collapsed": true
   },
   "outputs": [],
   "source": [
    "import internetarchive as ia"
   ]
  },
  {
   "cell_type": "markdown",
   "metadata": {},
   "source": [
    "Now we run a search for the Medical Heritage Library, and print out how many documents we found:"
   ]
  },
  {
   "cell_type": "code",
   "execution_count": null,
   "metadata": {
    "collapsed": false
   },
   "outputs": [],
   "source": [
    "search_results = ia.search_items('collection:medicalheritagelibrary')\n",
    "print(search_results.num_found)"
   ]
  },
  {
   "cell_type": "markdown",
   "metadata": {},
   "source": [
    "You will see that there are over 100,000 collections in the Medical Hertiage Library. Wow! That's a lot of medical history. Internet Archive's API, right now, can only handle 10,000 items at a time so try limiting your results by year. "
   ]
  },
  {
   "cell_type": "code",
   "execution_count": null,
   "metadata": {
    "collapsed": false
   },
   "outputs": [],
   "source": [
    "search_results = ia.search_items('collection:medicalheritagelibrary AND title:hysteria')\n",
    "print(search_results.num_found)"
   ]
  },
  {
   "cell_type": "markdown",
   "metadata": {},
   "source": [
    "Great! Now we have a little over a little over 80 items. Let's check out what is in that list. \n",
    "\n",
    "Right now, the ```search_results``` variable is just a pointer to the search. But in order to get the actual IDs for all the items in the collection, we need to perform that search and store what it returns in a list:"
   ]
  },
  {
   "cell_type": "code",
   "execution_count": null,
   "metadata": {
    "collapsed": false
   },
   "outputs": [],
   "source": [
    "search_items = list(search_results)"
   ]
  },
  {
   "cell_type": "markdown",
   "metadata": {},
   "source": [
    "Now let's see what the list contains. This should print out the IDs for first ten items on the list:"
   ]
  },
  {
   "cell_type": "code",
   "execution_count": null,
   "metadata": {
    "collapsed": false
   },
   "outputs": [],
   "source": [
    "for item in search_items[0:10]:\n",
    "    print(\"ID: {}\".format(item['identifier']))"
   ]
  },
  {
   "cell_type": "markdown",
   "metadata": {
    "collapsed": true
   },
   "source": [
    "Now that we know the IDs of what we're interested in, we can work with those items. Let's get a list of the file types associated with that first item returned:"
   ]
  },
  {
   "cell_type": "code",
   "execution_count": null,
   "metadata": {
    "collapsed": false
   },
   "outputs": [],
   "source": [
    "import os\n",
    "from requests import ConnectionError\n",
    "\n",
    "try:\n",
    "    os.mkdir(\"MedicalHeritagePDF-hysteria\")\n",
    "except FileExistsError:\n",
    "    pass\n",
    "\n",
    "files = []\n",
    "\n",
    "for search_item in search_items[0:10]:\n",
    "    item_id = search_item['identifier']\n",
    "    item = ia.get_item(item_id)\n",
    "    filenames = [f['name'] for f in item.files if 'PDF' in f['format']]\n",
    "    if len(filenames) == 0:\n",
    "        print(\"The item with id {} has no PDFs!\".format(item_id))\n",
    "    else:\n",
    "        fn  = filenames[0]\n",
    "        print(\"Getting file {}...\".format(fn))\n",
    "        file = item.get_file(fn) \n",
    "        try:\n",
    "            filename = os.path.join(\"MedicalHeritagePDF-hysteria\", fn)\n",
    "            file.download(filename, silent=True)\n",
    "            files.append(filename)                   \n",
    "            print(\"Check!\")\n",
    "        except ConnectionError:\n",
    "            print(\"There's a connection error. Try to get {} again later\".format(fn))      "
   ]
  },
  {
   "cell_type": "markdown",
   "metadata": {},
   "source": [
    "Now, let's say you want to do other types of searches rather than searching by date. Don't worry! You can! \n",
    "\n",
    "You can search for things like: \n",
    "\n",
    "title (the title of the work) \n",
    "ex: title:[civil war]\n",
    "\n",
    "date (the date of the work formatted like so: [YEAR-MONTH-DAY TO YEAR-MONTH-DAY]) \n",
    "ex: date:[1820-01-01 TO 1830-12-31]\n",
    "\n",
    "description (the description of the work)\n",
    "ex: description:photograph\n",
    "\n",
    "addeddate (the date the work was added)\n",
    "ex: addeddate:2016"
   ]
  },
  {
   "cell_type": "code",
   "execution_count": null,
   "metadata": {
    "collapsed": false
   },
   "outputs": [],
   "source": [
    "search_results = ia.search_items('collection:medicalheritagelibrary AND title:medical')\n",
    "print(search_results.num_found)"
   ]
  }
 ],
 "metadata": {
  "kernelspec": {
   "display_name": "Python 3",
   "language": "python",
   "name": "python3"
  },
  "language_info": {
   "codemirror_mode": {
    "name": "ipython",
    "version": 3
   },
   "file_extension": ".py",
   "mimetype": "text/x-python",
   "name": "python",
   "nbconvert_exporter": "python",
   "pygments_lexer": "ipython3",
   "version": "3.5.1"
  }
 },
 "nbformat": 4,
 "nbformat_minor": 0
}
